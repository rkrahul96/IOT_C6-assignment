{
 "cells": [
  {
   "cell_type": "markdown",
   "metadata": {},
   "source": [
    "# <font color=\"brown\"> Customer Analysis - Spend Prediction and Segmentation </font>"
   ]
  },
  {
   "cell_type": "markdown",
   "metadata": {},
   "source": [
    "<b> <font color=\"blue\"> The exercise comprises of 2 major steps.\n",
    " 1. Use the mall_customers.csv file to build a model for predicting the spend given gender, age and salary\n",
    " 2. Build a model to cluster the customers into multiple groups and predict the customer segment for a new customer.</font>"
   ]
  },
  {
   "cell_type": "markdown",
   "metadata": {},
   "source": [
    "<b> Importing all required packages"
   ]
  },
  {
   "cell_type": "code",
   "execution_count": 1,
   "metadata": {},
   "outputs": [],
   "source": [
    "import pandas as pd\n",
    "import numpy as np\n",
    "\n",
    "import matplotlib.pyplot as plt\n",
    "from mpl_toolkits import mplot3d\n",
    "\n",
    "from sklearn.cluster import KMeans\n",
    "from sklearn import metrics\n",
    "from sklearn.ensemble import RandomForestClassifier\n",
    "from sklearn.model_selection import train_test_split\n",
    "from sklearn.metrics import silhouette_score\n",
    "from sklearn.metrics import confusion_matrix\n",
    "from imblearn.over_sampling import RandomOverSampler"
   ]
  },
  {
   "cell_type": "markdown",
   "metadata": {},
   "source": [
    "<b> create a dataframe by reading the csv and check for bad records"
   ]
  },
  {
   "cell_type": "code",
   "execution_count": 2,
   "metadata": {},
   "outputs": [],
   "source": [
    "cust_df = pd.read_csv(\"./mall_customers.csv\",index_col=0)"
   ]
  },
  {
   "cell_type": "code",
   "execution_count": 3,
   "metadata": {},
   "outputs": [
    {
     "data": {
      "text/plain": [
       "Index(['Gender', 'Age', 'Annual Income (k$)', 'Spending Score (1-100)'], dtype='object')"
      ]
     },
     "execution_count": 3,
     "metadata": {},
     "output_type": "execute_result"
    }
   ],
   "source": [
    "cust_df.isna().sum()\n",
    "cust_df.isnull().sum()\n",
    "cust_df.columns"
   ]
  },
  {
   "cell_type": "code",
   "execution_count": 4,
   "metadata": {},
   "outputs": [
    {
     "name": "stdout",
     "output_type": "stream",
     "text": [
      "No NA data present.\n",
      "No null data present\n"
     ]
    }
   ],
   "source": [
    "if ( cust_df['Gender'].isna().sum() == 0 & cust_df['Age'].isna().sum() == 0 & \n",
    "    cust_df['Annual Income (k$)'].isna().sum() == 0 & cust_df['Spending Score (1-100)'].isna().sum() == 0):\n",
    "    print (\"No NA data present.\")\n",
    "    if (cust_df['Gender'].isnull().sum() == 0 & cust_df['Age'].isnull().sum() == 0 & \n",
    "    cust_df['Annual Income (k$)'].isnull().sum() == 0 & cust_df['Spending Score (1-100)'].isnull().sum() == 0):\n",
    "        print(\"No null data present\")\n",
    "    else:\n",
    "        print(\"need to clean for nulls\")\n",
    "else:\n",
    "    print(\"need to clean for NA\")\n",
    "#cust_df['Gender'].isna().sum()"
   ]
  },
  {
   "cell_type": "markdown",
   "metadata": {},
   "source": [
    "<b> Data is clean. No need to do any cleaning. Yaay!!"
   ]
  },
  {
   "cell_type": "markdown",
   "metadata": {},
   "source": [
    "### <b> We need to do clustering. Let's try k-means first"
   ]
  },
  {
   "cell_type": "code",
   "execution_count": 5,
   "metadata": {},
   "outputs": [
    {
     "data": {
      "text/plain": [
       "42    8\n",
       "55    7\n",
       "46    6\n",
       "73    6\n",
       "35    5\n",
       "     ..\n",
       "31    1\n",
       "82    1\n",
       "24    1\n",
       "23    1\n",
       "99    1\n",
       "Name: Spending Score (1-100), Length: 84, dtype: int64"
      ]
     },
     "execution_count": 5,
     "metadata": {},
     "output_type": "execute_result"
    }
   ],
   "source": [
    "cust_df[\"Spending Score (1-100)\"].value_counts()"
   ]
  },
  {
   "cell_type": "markdown",
   "metadata": {},
   "source": [
    "### Create a new DF to use all the 4 variables to create cluster - gender, age, salary, spend"
   ]
  },
  {
   "cell_type": "code",
   "execution_count": 6,
   "metadata": {},
   "outputs": [],
   "source": [
    "cstdf=cust_df\n",
    "cstdf=cstdf.replace('Male',0)\n",
    "cstdf=cstdf.replace('Female',1)"
   ]
  },
  {
   "cell_type": "code",
   "execution_count": 7,
   "metadata": {},
   "outputs": [
    {
     "data": {
      "text/plain": [
       "1    112\n",
       "0     88\n",
       "Name: Gender, dtype: int64"
      ]
     },
     "execution_count": 7,
     "metadata": {},
     "output_type": "execute_result"
    }
   ],
   "source": [
    "cstdf['Gender'].value_counts()"
   ]
  },
  {
   "cell_type": "markdown",
   "metadata": {},
   "source": [
    "<b> performing k-means clustering using 6 clusters."
   ]
  },
  {
   "cell_type": "code",
   "execution_count": 8,
   "metadata": {},
   "outputs": [
    {
     "data": {
      "text/plain": [
       "KMeans(n_clusters=6)"
      ]
     },
     "execution_count": 8,
     "metadata": {},
     "output_type": "execute_result"
    }
   ],
   "source": [
    "k_means = KMeans(n_clusters=6)\n",
    "k_means.fit(cstdf)"
   ]
  },
  {
   "cell_type": "markdown",
   "metadata": {},
   "source": [
    "#### Unique cluster values are listed below. Use this to add to the original dataframe later"
   ]
  },
  {
   "cell_type": "code",
   "execution_count": 9,
   "metadata": {},
   "outputs": [
    {
     "name": "stdout",
     "output_type": "stream",
     "text": [
      "unique cluster labels :  [0 1 2 3 4 5]\n"
     ]
    }
   ],
   "source": [
    "labels=np.unique(k_means.labels_)\n",
    "print(\"unique cluster labels : \" , labels)"
   ]
  },
  {
   "cell_type": "code",
   "execution_count": 10,
   "metadata": {},
   "outputs": [
    {
     "name": "stdout",
     "output_type": "stream",
     "text": [
      "cluster labels for mall customer data :  [2 4 2 4 2 4 2 4 2 4 2 4 2 4 2 4 2 4 2 4 2 4 2 4 2 4 2 4 2 4 2 4 2 4 2 4 2\n",
      " 4 2 4 5 4 5 3 2 4 5 3 3 3 5 3 3 5 5 5 5 5 3 5 5 3 5 5 5 3 5 5 3 3 5 5 5 5\n",
      " 5 3 5 3 3 5 5 3 5 5 3 5 5 3 3 5 5 3 5 3 3 3 5 3 5 3 3 5 5 3 5 3 5 5 5 5 5\n",
      " 3 3 3 3 3 5 5 5 5 3 3 3 1 3 1 0 1 0 1 0 1 3 1 0 1 0 1 0 1 0 1 3 1 0 1 0 1\n",
      " 0 1 0 1 0 1 0 1 0 1 0 1 0 1 0 1 0 1 0 1 0 1 0 1 0 1 0 1 0 1 0 1 0 1 0 1 0\n",
      " 1 0 1 0 1 0 1 0 1 0 1 0 1 0 1]\n"
     ]
    }
   ],
   "source": [
    "cluster_labels=k_means.labels_\n",
    "print(\"cluster labels for mall customer data : \", cluster_labels)"
   ]
  },
  {
   "cell_type": "markdown",
   "metadata": {},
   "source": [
    "<b> find cluster score"
   ]
  },
  {
   "cell_type": "code",
   "execution_count": 11,
   "metadata": {},
   "outputs": [
    {
     "name": "stdout",
     "output_type": "stream",
     "text": [
      "Score =  0.45205475380756527\n"
     ]
    }
   ],
   "source": [
    "score = silhouette_score (cstdf, k_means.labels_)\n",
    "print(\"Score = \", score)"
   ]
  },
  {
   "cell_type": "markdown",
   "metadata": {},
   "source": [
    "<b> adding the cluster labels back to the original dataframe"
   ]
  },
  {
   "cell_type": "code",
   "execution_count": 12,
   "metadata": {},
   "outputs": [
    {
     "name": "stdout",
     "output_type": "stream",
     "text": [
      "Index(['Gender', 'Age', 'Annual Income (k$)', 'Spending Score (1-100)',\n",
      "       'cluster'],\n",
      "      dtype='object')\n",
      "            Gender  Age  Annual Income (k$)  Spending Score (1-100)  cluster\n",
      "CustomerID                                                                  \n",
      "1                0   19                  15                      39        2\n",
      "2                0   21                  15                      81        4\n",
      "3                1   20                  16                       6        2\n",
      "4                1   23                  16                      77        4\n",
      "5                1   31                  17                      40        2\n"
     ]
    }
   ],
   "source": [
    "cstdf['cluster']=cluster_labels\n",
    "print(cstdf.columns)\n",
    "print(cstdf.head())"
   ]
  },
  {
   "cell_type": "markdown",
   "metadata": {},
   "source": [
    "<b> Plot the custer in 3D to check for maps. The same can also be done in a 2D plot."
   ]
  },
  {
   "cell_type": "code",
   "execution_count": 13,
   "metadata": {},
   "outputs": [
    {
     "name": "stdout",
     "output_type": "stream",
     "text": [
      "cluster centers :  [[ 0.42857143 41.68571429 88.22857143 17.28571429]\n",
      " [ 0.53846154 32.69230769 86.53846154 82.12820513]\n",
      " [ 0.61904762 44.14285714 25.14285714 19.52380952]\n",
      " [ 0.65789474 27.         56.65789474 49.13157895]\n",
      " [ 0.59090909 25.27272727 25.72727273 79.36363636]\n",
      " [ 0.55555556 56.15555556 53.37777778 49.08888889]]\n"
     ]
    },
    {
     "data": {
      "image/png": "[encoded data removed]",
      "text/plain": [
       "<Figure size 864x576 with 1 Axes>"
      ]
     },
     "metadata": {
      "needs_background": "light"
     },
     "output_type": "display_data"
    }
   ],
   "source": [
    "centers = k_means.cluster_centers_\n",
    "print(\"cluster centers : \", centers)\n",
    "\n",
    "fig = plt.figure(figsize=(12, 8))\n",
    "ax = plt.axes(projection =\"3d\") \n",
    "\n",
    "ax.scatter3D(cstdf['Age'],\n",
    "             cstdf['Annual Income (k$)'],\n",
    "             cstdf['Spending Score (1-100)'],\n",
    "             c=k_means.labels_, s=50)\n",
    "\n",
    "ax.scatter3D(centers[:,1],centers[:,2], centers[:,3], color='purple', marker='s', s=150) \n",
    "ax.set_xlabel('Age')\n",
    "ax.set_ylabel('Annual Income (k$)')\n",
    "ax.set_zlabel('Spending Score (1-100)')\n",
    "plt.title('K-means Age vs Annual Income (k$) vs Spending Score (1-100)')\n",
    "plt.show()"
   ]
  },
  {
   "cell_type": "markdown",
   "metadata": {},
   "source": [
    "### Counts for our different clusters"
   ]
  },
  {
   "cell_type": "code",
   "execution_count": 14,
   "metadata": {},
   "outputs": [
    {
     "data": {
      "text/plain": [
       "5    45\n",
       "1    39\n",
       "3    38\n",
       "0    35\n",
       "4    22\n",
       "2    21\n",
       "Name: cluster, dtype: int64"
      ]
     },
     "execution_count": 14,
     "metadata": {},
     "output_type": "execute_result"
    }
   ],
   "source": [
    "cstdf['cluster'].value_counts()"
   ]
  },
  {
   "cell_type": "markdown",
   "metadata": {},
   "source": [
    "### Verifying and validating the model is correct. To do this get the values of the different clusters. Apply the model and verify."
   ]
  },
  {
   "cell_type": "code",
   "execution_count": 15,
   "metadata": {},
   "outputs": [
    {
     "name": "stdout",
     "output_type": "stream",
     "text": [
      "            Gender  Age  Annual Income (k$)  Spending Score (1-100)  cluster\n",
      "CustomerID                                                                  \n",
      "127              0   43                  71                      35        0\n",
      "129              0   59                  71                      11        0\n",
      "131              0   47                  71                       9        0\n",
      "135              0   20                  73                       5        0\n",
      "137              1   44                  73                       7        0\n",
      "            Gender  Age  Annual Income (k$)  Spending Score (1-100)  cluster\n",
      "CustomerID                                                                  \n",
      "124              0   39                  69                      91        1\n",
      "126              1   31                  70                      77        1\n",
      "128              0   40                  71                      95        1\n",
      "130              0   38                  71                      75        1\n",
      "132              0   39                  71                      75        1\n",
      "            Gender  Age  Annual Income (k$)  Spending Score (1-100)  cluster\n",
      "CustomerID                                                                  \n",
      "1                0   19                  15                      39        2\n",
      "3                1   20                  16                       6        2\n",
      "5                1   31                  17                      40        2\n",
      "7                1   35                  18                       6        2\n",
      "9                0   64                  19                       3        2\n",
      "            Gender  Age  Annual Income (k$)  Spending Score (1-100)  cluster\n",
      "CustomerID                                                                  \n",
      "44               1   31                  39                      61        3\n",
      "48               1   27                  40                      47        3\n",
      "49               1   29                  40                      42        3\n",
      "50               1   31                  40                      42        3\n",
      "52               0   33                  42                      60        3\n",
      "            Gender  Age  Annual Income (k$)  Spending Score (1-100)  cluster\n",
      "CustomerID                                                                  \n",
      "2                0   21                  15                      81        4\n",
      "4                1   23                  16                      77        4\n",
      "6                1   22                  17                      76        4\n",
      "8                1   23                  18                      94        4\n",
      "10               1   30                  19                      72        4\n",
      "            Gender  Age  Annual Income (k$)  Spending Score (1-100)  cluster\n",
      "CustomerID                                                                  \n",
      "41               1   65                  38                      35        5\n",
      "43               0   48                  39                      36        5\n",
      "47               1   50                  40                      55        5\n",
      "51               1   49                  42                      52        5\n",
      "54               0   59                  43                      60        5\n"
     ]
    }
   ],
   "source": [
    "print(cstdf.loc[cstdf['cluster']==0].head())\n",
    "print(cstdf.loc[cstdf['cluster']==1].head())\n",
    "print(cstdf.loc[cstdf['cluster']==2].head())\n",
    "print(cstdf.loc[cstdf['cluster']==3].head())\n",
    "print(cstdf.loc[cstdf['cluster']==4].head())\n",
    "print(cstdf.loc[cstdf['cluster']==5].head())"
   ]
  },
  {
   "cell_type": "markdown",
   "metadata": {},
   "source": [
    "## <font color=\"purple\"> How to predict cluster for new records. Supply the incoming records as dataframe directly or as an ndarray. Apply the predict function. Example below on the existing data </font>"
   ]
  },
  {
   "cell_type": "code",
   "execution_count": 16,
   "metadata": {},
   "outputs": [
    {
     "name": "stdout",
     "output_type": "stream",
     "text": [
      "[2]\n",
      "[2]\n",
      "[5]\n",
      "[5]\n",
      "[0]\n",
      "[0]\n",
      "[1]\n",
      "[1]\n",
      "[4]\n",
      "[4]\n",
      "[3]\n",
      "[3]\n"
     ]
    }
   ],
   "source": [
    "print(k_means.predict(pd.DataFrame([[0,64,19,3]])))\n",
    "print(k_means.predict(pd.DataFrame([[1,20,16,6]])))\n",
    "print(k_means.predict(pd.DataFrame([[0,48,39,36]])))\n",
    "print(k_means.predict(pd.DataFrame([[1,49,42,52]])))\n",
    "print(k_means.predict(pd.DataFrame([[0,47,71,9]])))\n",
    "print(k_means.predict(pd.DataFrame([[1,44,73,7]])))\n",
    "print(k_means.predict(pd.DataFrame([[0,38,71,75]])))\n",
    "print(k_means.predict(pd.DataFrame([[1,31,70,77]])))\n",
    "print(k_means.predict(pd.DataFrame([[0,21,15,81]])))\n",
    "print(k_means.predict(pd.DataFrame([[1,23,18,94]])))\n",
    "print(k_means.predict(pd.DataFrame([[0,33,42,60]])))\n",
    "print(k_means.predict(pd.DataFrame([[1,29,40,42]])))"
   ]
  },
  {
   "cell_type": "markdown",
   "metadata": {},
   "source": [
    "# Approach for classification using Random Forest"
   ]
  },
  {
   "cell_type": "markdown",
   "metadata": {},
   "source": [
    "<b> Convert the categorical variable first to a numeric. here only 2 possibilities"
   ]
  },
  {
   "cell_type": "code",
   "execution_count": 17,
   "metadata": {},
   "outputs": [
    {
     "data": {
      "text/html": [
       "<div>\n",
       "<style scoped>\n",
       "    .dataframe tbody tr th:only-of-type {\n",
       "        vertical-align: middle;\n",
       "    }\n",
       "\n",
       "    .dataframe tbody tr th {\n",
       "        vertical-align: top;\n",
       "    }\n",
       "\n",
       "    .dataframe thead th {\n",
       "        text-align: right;\n",
       "    }\n",
       "</style>\n",
       "<table border=\"1\" class=\"dataframe\">\n",
       "  <thead>\n",
       "    <tr style=\"text-align: right;\">\n",
       "      <th></th>\n",
       "      <th>Gender</th>\n",
       "      <th>Age</th>\n",
       "      <th>Annual Income (k$)</th>\n",
       "      <th>Spending Score (1-100)</th>\n",
       "    </tr>\n",
       "    <tr>\n",
       "      <th>CustomerID</th>\n",
       "      <th></th>\n",
       "      <th></th>\n",
       "      <th></th>\n",
       "      <th></th>\n",
       "    </tr>\n",
       "  </thead>\n",
       "  <tbody>\n",
       "    <tr>\n",
       "      <th>1</th>\n",
       "      <td>0</td>\n",
       "      <td>19</td>\n",
       "      <td>15</td>\n",
       "      <td>39</td>\n",
       "    </tr>\n",
       "    <tr>\n",
       "      <th>2</th>\n",
       "      <td>0</td>\n",
       "      <td>21</td>\n",
       "      <td>15</td>\n",
       "      <td>81</td>\n",
       "    </tr>\n",
       "    <tr>\n",
       "      <th>3</th>\n",
       "      <td>1</td>\n",
       "      <td>20</td>\n",
       "      <td>16</td>\n",
       "      <td>6</td>\n",
       "    </tr>\n",
       "    <tr>\n",
       "      <th>4</th>\n",
       "      <td>1</td>\n",
       "      <td>23</td>\n",
       "      <td>16</td>\n",
       "      <td>77</td>\n",
       "    </tr>\n",
       "    <tr>\n",
       "      <th>5</th>\n",
       "      <td>1</td>\n",
       "      <td>31</td>\n",
       "      <td>17</td>\n",
       "      <td>40</td>\n",
       "    </tr>\n",
       "  </tbody>\n",
       "</table>\n",
       "</div>"
      ],
      "text/plain": [
       "            Gender  Age  Annual Income (k$)  Spending Score (1-100)\n",
       "CustomerID                                                         \n",
       "1                0   19                  15                      39\n",
       "2                0   21                  15                      81\n",
       "3                1   20                  16                       6\n",
       "4                1   23                  16                      77\n",
       "5                1   31                  17                      40"
      ]
     },
     "execution_count": 17,
     "metadata": {},
     "output_type": "execute_result"
    }
   ],
   "source": [
    "cust_df=cust_df.replace('Male',0)\n",
    "cust_df=cust_df.replace('Female',1)\n",
    "cust_df.head()"
   ]
  },
  {
   "cell_type": "markdown",
   "metadata": {},
   "source": [
    "### Get the features and Labels first using the original dataframe. \n",
    "### 1. Features are the input parameters - In our case, gender, age and income\n",
    "### 2. Labels are the output parameter - Prediction parameter - In our case Spending"
   ]
  },
  {
   "cell_type": "code",
   "execution_count": 18,
   "metadata": {},
   "outputs": [],
   "source": [
    "features=cust_df[['Gender', 'Age', 'Annual Income (k$)']] #Features\n",
    "labels=cust_df[['Spending Score (1-100)']] #Labels"
   ]
  },
  {
   "cell_type": "markdown",
   "metadata": {},
   "source": [
    "### Find distribution on the spending score "
   ]
  },
  {
   "cell_type": "code",
   "execution_count": 19,
   "metadata": {},
   "outputs": [
    {
     "name": "stdout",
     "output_type": "stream",
     "text": [
      "[39 81  6 77 40 76 94  3 72 14 99 15 13 79 35 66 29 98 73  5 82 32 61 31\n",
      " 87  4 92 17 26 75 36 28 65 55 47 42 52 60 54 45 41 50 46 51 56 59 48 49\n",
      " 53 44 57 58 43 91 95 11  9 34 71 88  7 10 93 12 97 74 22 90 20 16 89  1\n",
      " 78 83 27 63 86 69 24 68 85 23  8 18]\n"
     ]
    },
    {
     "data": {
      "image/png": "[encoded data removed]",
      "text/plain": [
       "<Figure size 432x288 with 1 Axes>"
      ]
     },
     "metadata": {
      "needs_background": "light"
     },
     "output_type": "display_data"
    }
   ],
   "source": [
    "freq = dict(cust_df['Spending Score (1-100)'].value_counts().sort_values(ascending=False))\n",
    "plt.bar(list(freq.keys()), list(freq.values()))\n",
    "\n",
    "target = cust_df['Spending Score (1-100)'].unique()\n",
    "print(target)"
   ]
  },
  {
   "cell_type": "markdown",
   "metadata": {},
   "source": [
    "### Apply oversampling to simulate low occurrence samples and plot it to check. We are doing this since most of the spending scores appears only once. This makes the data imbalanced. Oversampling will generate a new point close to the original points in space. Use this to fit in the distribution and check."
   ]
  },
  {
   "cell_type": "code",
   "execution_count": 20,
   "metadata": {},
   "outputs": [
    {
     "name": "stdout",
     "output_type": "stream",
     "text": [
      "Feature count :  Gender                672\n",
      "Age                   672\n",
      "Annual Income (k$)    672\n",
      "dtype: int64\n",
      "Label count :  Spending Score (1-100)    672\n",
      "dtype: int64\n"
     ]
    },
    {
     "data": {
      "text/plain": [
       "<BarContainer object of 84 artists>"
      ]
     },
     "execution_count": 20,
     "metadata": {},
     "output_type": "execute_result"
    },
    {
     "data": {
      "image/png": "[encoded data removed]",
      "text/plain": [
       "<Figure size 432x288 with 1 Axes>"
      ]
     },
     "metadata": {
      "needs_background": "light"
     },
     "output_type": "display_data"
    }
   ],
   "source": [
    "ros = RandomOverSampler()\n",
    "feature_samples, label_samples = ros.fit_sample(features, labels)\n",
    "print(\"Feature count : \" , feature_samples.count())\n",
    "print(\"Label count : \", label_samples.count())\n",
    "freq = dict(label_samples['Spending Score (1-100)'].value_counts().sort_values(ascending=False))\n",
    "plt.bar(list(freq.keys()), list(freq.values()))"
   ]
  },
  {
   "cell_type": "markdown",
   "metadata": {},
   "source": [
    "<b> split data into training and test data based on 90:10 ratio"
   ]
  },
  {
   "cell_type": "code",
   "execution_count": 21,
   "metadata": {},
   "outputs": [],
   "source": [
    "x_train, x_test, y_train, y_test = train_test_split(feature_samples, np.ravel(label_samples), test_size=0.1)"
   ]
  },
  {
   "cell_type": "markdown",
   "metadata": {},
   "source": [
    "<b> Create a Gaussian Classifier with number of estimators as 100"
   ]
  },
  {
   "cell_type": "code",
   "execution_count": 22,
   "metadata": {},
   "outputs": [],
   "source": [
    "clf=RandomForestClassifier(n_estimators=100)"
   ]
  },
  {
   "cell_type": "markdown",
   "metadata": {},
   "source": [
    "<b> Train the model using the training sets. Generate predictions on the test set. The data should be array and not dataframe"
   ]
  },
  {
   "cell_type": "code",
   "execution_count": 23,
   "metadata": {},
   "outputs": [
    {
     "data": {
      "text/plain": [
       "RandomForestClassifier()"
      ]
     },
     "execution_count": 23,
     "metadata": {},
     "output_type": "execute_result"
    }
   ],
   "source": [
    "clf.fit(x_train.values,y_train)"
   ]
  },
  {
   "cell_type": "markdown",
   "metadata": {},
   "source": [
    "## <font color=\"purple\"> How to predict scoring using the classifier for new records. Supply the incoming records as an ndarray. Apply the predict function. Example below on the test data </font>"
   ]
  },
  {
   "cell_type": "code",
   "execution_count": 24,
   "metadata": {},
   "outputs": [],
   "source": [
    "y_pred=clf.predict(x_test.values)"
   ]
  },
  {
   "cell_type": "markdown",
   "metadata": {},
   "source": [
    "<b> check the accuracy using actual and predicted values. y_pred is the predicted values and y_test is the sample actual values"
   ]
  },
  {
   "cell_type": "code",
   "execution_count": 25,
   "metadata": {},
   "outputs": [
    {
     "name": "stdout",
     "output_type": "stream",
     "text": [
      "Accuracy: 0.9264705882352942\n"
     ]
    }
   ],
   "source": [
    "print(\"Accuracy:\",metrics.accuracy_score(y_pred, y_test))"
   ]
  },
  {
   "cell_type": "code",
   "execution_count": 26,
   "metadata": {},
   "outputs": [
    {
     "data": {
      "text/plain": [
       "array([[1, 0, 0, ..., 0, 0, 0],\n",
       "       [0, 2, 0, ..., 0, 0, 0],\n",
       "       [0, 0, 1, ..., 0, 0, 0],\n",
       "       ...,\n",
       "       [0, 0, 0, ..., 1, 0, 0],\n",
       "       [0, 0, 0, ..., 0, 2, 0],\n",
       "       [0, 0, 0, ..., 0, 0, 1]], dtype=int64)"
      ]
     },
     "execution_count": 26,
     "metadata": {},
     "output_type": "execute_result"
    }
   ],
   "source": [
    "#calculates true positives. Ideal state the diagonals should have non-zero values while the rest should be 0\n",
    "confusion_matrix(y_test, y_pred) "
   ]
  },
  {
   "cell_type": "markdown",
   "metadata": {},
   "source": [
    "# For any new incoming data, apply the y_pred=clf.predict(x_test.values) to predict the spending score"
   ]
  },
  {
   "cell_type": "code",
   "execution_count": null,
   "metadata": {},
   "outputs": [],
   "source": []
  },
  {
   "cell_type": "code",
   "execution_count": null,
   "metadata": {},
   "outputs": [],
   "source": [
    "print(clf.predict([[0,19,15]]))\n",
    "print(clf.predict([[1,20,16]]))"
   ]
  }
 ],
 "metadata": {
  "kernelspec": {
   "display_name": "Python 3",
   "language": "python",
   "name": "python3"
  },
  "language_info": {
   "codemirror_mode": {
    "name": "ipython",
    "version": 3
   },
   "file_extension": ".py",
   "mimetype": "text/x-python",
   "name": "python",
   "nbconvert_exporter": "python",
   "pygments_lexer": "ipython3",
   "version": "3.7.6"
  }
 },
 "nbformat": 4,
 "nbformat_minor": 4
}
